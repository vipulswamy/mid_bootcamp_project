{
 "cells": [
  {
   "cell_type": "code",
   "execution_count": 1,
   "id": "140778d9",
   "metadata": {},
   "outputs": [],
   "source": [
    "import pandas as pd\n",
    "import numpy as np\n",
    "import matplotlib.pyplot as plt\n",
    "import seaborn as sns\n",
    "%matplotlib inline"
   ]
  },
  {
   "cell_type": "markdown",
   "id": "cfe095f2",
   "metadata": {},
   "source": [
    "# Dealing with the data"
   ]
  },
  {
   "cell_type": "code",
   "execution_count": 6,
   "id": "b89f648d",
   "metadata": {
    "scrolled": true
   },
   "outputs": [
    {
     "data": {
      "text/html": [
       "<div>\n",
       "<style scoped>\n",
       "    .dataframe tbody tr th:only-of-type {\n",
       "        vertical-align: middle;\n",
       "    }\n",
       "\n",
       "    .dataframe tbody tr th {\n",
       "        vertical-align: top;\n",
       "    }\n",
       "\n",
       "    .dataframe thead th {\n",
       "        text-align: right;\n",
       "    }\n",
       "</style>\n",
       "<table border=\"1\" class=\"dataframe\">\n",
       "  <thead>\n",
       "    <tr style=\"text-align: right;\">\n",
       "      <th></th>\n",
       "      <th>Density</th>\n",
       "      <th>BodyFat</th>\n",
       "      <th>Age</th>\n",
       "      <th>Weight</th>\n",
       "      <th>Height</th>\n",
       "      <th>Neck</th>\n",
       "      <th>Chest</th>\n",
       "      <th>Abdomen</th>\n",
       "      <th>Hip</th>\n",
       "      <th>Thigh</th>\n",
       "      <th>Knee</th>\n",
       "      <th>Ankle</th>\n",
       "      <th>Biceps</th>\n",
       "      <th>Forearm</th>\n",
       "      <th>Wrist</th>\n",
       "    </tr>\n",
       "  </thead>\n",
       "  <tbody>\n",
       "    <tr>\n",
       "      <th>0</th>\n",
       "      <td>1.0708</td>\n",
       "      <td>12.3</td>\n",
       "      <td>23</td>\n",
       "      <td>154.25</td>\n",
       "      <td>67.75</td>\n",
       "      <td>36.2</td>\n",
       "      <td>93.1</td>\n",
       "      <td>85.2</td>\n",
       "      <td>94.5</td>\n",
       "      <td>59.0</td>\n",
       "      <td>37.3</td>\n",
       "      <td>21.9</td>\n",
       "      <td>32.0</td>\n",
       "      <td>27.4</td>\n",
       "      <td>17.1</td>\n",
       "    </tr>\n",
       "    <tr>\n",
       "      <th>1</th>\n",
       "      <td>1.0853</td>\n",
       "      <td>6.1</td>\n",
       "      <td>22</td>\n",
       "      <td>173.25</td>\n",
       "      <td>72.25</td>\n",
       "      <td>38.5</td>\n",
       "      <td>93.6</td>\n",
       "      <td>83.0</td>\n",
       "      <td>98.7</td>\n",
       "      <td>58.7</td>\n",
       "      <td>37.3</td>\n",
       "      <td>23.4</td>\n",
       "      <td>30.5</td>\n",
       "      <td>28.9</td>\n",
       "      <td>18.2</td>\n",
       "    </tr>\n",
       "    <tr>\n",
       "      <th>2</th>\n",
       "      <td>1.0414</td>\n",
       "      <td>25.3</td>\n",
       "      <td>22</td>\n",
       "      <td>154.00</td>\n",
       "      <td>66.25</td>\n",
       "      <td>34.0</td>\n",
       "      <td>95.8</td>\n",
       "      <td>87.9</td>\n",
       "      <td>99.2</td>\n",
       "      <td>59.6</td>\n",
       "      <td>38.9</td>\n",
       "      <td>24.0</td>\n",
       "      <td>28.8</td>\n",
       "      <td>25.2</td>\n",
       "      <td>16.6</td>\n",
       "    </tr>\n",
       "    <tr>\n",
       "      <th>3</th>\n",
       "      <td>1.0751</td>\n",
       "      <td>10.4</td>\n",
       "      <td>26</td>\n",
       "      <td>184.75</td>\n",
       "      <td>72.25</td>\n",
       "      <td>37.4</td>\n",
       "      <td>101.8</td>\n",
       "      <td>86.4</td>\n",
       "      <td>101.2</td>\n",
       "      <td>60.1</td>\n",
       "      <td>37.3</td>\n",
       "      <td>22.8</td>\n",
       "      <td>32.4</td>\n",
       "      <td>29.4</td>\n",
       "      <td>18.2</td>\n",
       "    </tr>\n",
       "    <tr>\n",
       "      <th>4</th>\n",
       "      <td>1.0340</td>\n",
       "      <td>28.7</td>\n",
       "      <td>24</td>\n",
       "      <td>184.25</td>\n",
       "      <td>71.25</td>\n",
       "      <td>34.4</td>\n",
       "      <td>97.3</td>\n",
       "      <td>100.0</td>\n",
       "      <td>101.9</td>\n",
       "      <td>63.2</td>\n",
       "      <td>42.2</td>\n",
       "      <td>24.0</td>\n",
       "      <td>32.2</td>\n",
       "      <td>27.7</td>\n",
       "      <td>17.7</td>\n",
       "    </tr>\n",
       "  </tbody>\n",
       "</table>\n",
       "</div>"
      ],
      "text/plain": [
       "   Density  BodyFat  Age  Weight  Height  Neck  Chest  Abdomen    Hip  Thigh  \\\n",
       "0   1.0708     12.3   23  154.25   67.75  36.2   93.1     85.2   94.5   59.0   \n",
       "1   1.0853      6.1   22  173.25   72.25  38.5   93.6     83.0   98.7   58.7   \n",
       "2   1.0414     25.3   22  154.00   66.25  34.0   95.8     87.9   99.2   59.6   \n",
       "3   1.0751     10.4   26  184.75   72.25  37.4  101.8     86.4  101.2   60.1   \n",
       "4   1.0340     28.7   24  184.25   71.25  34.4   97.3    100.0  101.9   63.2   \n",
       "\n",
       "   Knee  Ankle  Biceps  Forearm  Wrist  \n",
       "0  37.3   21.9    32.0     27.4   17.1  \n",
       "1  37.3   23.4    30.5     28.9   18.2  \n",
       "2  38.9   24.0    28.8     25.2   16.6  \n",
       "3  37.3   22.8    32.4     29.4   18.2  \n",
       "4  42.2   24.0    32.2     27.7   17.7  "
      ]
     },
     "execution_count": 6,
     "metadata": {},
     "output_type": "execute_result"
    }
   ],
   "source": [
    "data = pd.read_csv('bodyfat.csv')\n",
    "data.shape\n",
    "data.head()"
   ]
  },
  {
   "cell_type": "code",
   "execution_count": 8,
   "id": "fc02aa56",
   "metadata": {},
   "outputs": [],
   "source": [
    "#Standardize header names.\n",
    "def coloumn_names_lwr(data):\n",
    "    data.columns = map(str.lower, data.columns)\n",
    "    data.head()\n",
    "    #data.columns = [x.lower() for x in data.columns]\n",
    "    \n",
    "def coloumn_names_captl(data):\n",
    "    data.columns = map(str.capitalize, data.columns)\n",
    "    data.head()\n",
    "    #data.columns = [x.capitalize() for x in data.columns]    \n",
    "'''\n",
    "def replace_whitespaces(data):\n",
    "    cols = []\n",
    "    for col in data.columns:\n",
    "        cols.append(col.replace(' ', '_'))\n",
    "    data.columns = cols\n",
    "    return data\n",
    "'''    \n"
   ]
  },
  {
   "cell_type": "code",
   "execution_count": null,
   "id": "dc2e07c9",
   "metadata": {},
   "outputs": [],
   "source": [
    "def check_missing_data(data):\n",
    "    print(f\"zero values in the dataset\\n: {data.isnull().sum() * 100 / len(data)}\")\n",
    "    print(f\"unknown values in the dataset:{data.isna().sum() * 100 / len(data)}\")\n",
    "    print(\"\\n\")\n",
    "    print(\"do you wish to clean your data set ?\")\n",
    "    userinput = input(\"press 1 to clean, press 0 to skip\")\n",
    "    if userinput == 1:\n",
    "        print(\"cleaning your data set ... \")\n",
    "    elif userinput != 0:\n",
    "        print(\"Cleaning skipped..\")    \n"
   ]
  },
  {
   "cell_type": "code",
   "execution_count": null,
   "id": "b7a02207",
   "metadata": {},
   "outputs": [],
   "source": [
    "#numercial and categorical data\n",
    "\n",
    "numerical_values = pd.DataFrame()\n",
    "continuous_values = pd.DataFrame()\n",
    "categorical_values = pd.DataFrame()\n",
    "\n",
    "def check_dataypes(data):\n",
    "    numerical = data.select_dtypes(np.number)\n",
    "    numerical_continuous = data.select_dtypes(include=['float64'])\n",
    "    categorical = data.select_dtypes(object)\n",
    "    return numerical,numerical_continuous,categorical\n"
   ]
  },
  {
   "cell_type": "markdown",
   "id": "c8b806ae",
   "metadata": {},
   "source": [
    "Omitting the density coloumn on purpose because to predict the body fat percentage of a person based on the circumferential measurements already available, which is good enough to predict with so much available data.\n",
    "\n",
    "I will, create Model only with these data, and predict again with my personal data set for the information randomly to validate the model."
   ]
  },
  {
   "cell_type": "markdown",
   "id": "24a82e3d",
   "metadata": {},
   "source": [
    "Fat (%) = [(4*95/density) -4.51 x 100]\n",
    "\n",
    "source:https://www.cambridge.org/core/services/aop-cambridge-core/content/view/DA80501B784742B9B2F4F454BDEE923B/S0007114567000728a.pdf/the-assessment-of-the-amount-of-fat-in-the-human-body-from-measurements-of-skinfold-thickness.pdf\n"
   ]
  },
  {
   "cell_type": "markdown",
   "id": "05acbac7",
   "metadata": {},
   "source": [
    "# Exploring the data"
   ]
  },
  {
   "cell_type": "code",
   "execution_count": null,
   "id": "4d170dd2",
   "metadata": {},
   "outputs": [],
   "source": [
    "#converting the dataset to metric system\n",
    "def convert_weight_kg(data):\n",
    "    data['weight']=data['weight'].apply(lambda x : round((x * 0.453),2))\n",
    "    \n",
    "def convert_inch_to_cm(data):\n",
    "    #drop weight, density and body fat percentage\n",
    "    # 12 inches --> 30 cm\n",
    "    #formula X cm = [30/12] * input inches\n",
    "    df_drops = data[['density','bodyfat','age','weight']]\n",
    "    df2 = data.drop(['density','bodyfat','age','weight'], axis=1)\n",
    "    df2 = df2.apply(lambda x : x * 2.5)\n",
    "    data = pd.concat([df_drops, df2], axis=1, join=\"outer\")\n",
    "    return data\n",
    "    "
   ]
  },
  {
   "cell_type": "markdown",
   "id": "141e3897",
   "metadata": {},
   "source": [
    "Finding the Relationships:"
   ]
  },
  {
   "cell_type": "markdown",
   "id": "3b2b9dd6",
   "metadata": {},
   "source": [
    "I am concerned about the correlation between the Label = 'Bodyfat%' and the features = [weight,height,Chest,abdomen, hip, Bicep,Thigh]"
   ]
  },
  {
   "cell_type": "markdown",
   "id": "1bddf83c",
   "metadata": {},
   "source": [
    "so I am going to find the Correation between them, by dropping the rest as follows"
   ]
  },
  {
   "cell_type": "code",
   "execution_count": null,
   "id": "9d4b3e78",
   "metadata": {},
   "outputs": [],
   "source": [
    "def find_correlation(data):\n",
    "    df_corr = data.drop(['density','age'], axis=1)\n",
    "    sns.heatmap(df_corr.corr())\n",
    "    #return df_corr\n",
    "    "
   ]
  },
  {
   "cell_type": "code",
   "execution_count": null,
   "id": "726778c3",
   "metadata": {},
   "outputs": [],
   "source": [
    "#pd.set_option('display.max_columns', None)"
   ]
  },
  {
   "cell_type": "code",
   "execution_count": null,
   "id": "2c436727",
   "metadata": {},
   "outputs": [],
   "source": [
    "# Fucntion calls and declarations\n",
    "numerical_values = pd.DataFrame()\n",
    "continuous_values = pd.DataFrame()\n",
    "categorical_values = pd.DataFrame()\n",
    "data_corr = pd.DataFrame()\n",
    "coloumn_names_lwr(data)\n",
    "check_missing_data(data)\n",
    "numerical_values,continuous_values,categorical_values = check_dataypes(data)\n",
    "convert_weight_kg(data)\n",
    "convert_inch_to_cm(data)\n",
    "find_correlation(numerical_values)#input numerical values\n",
    "data\n",
    "\n",
    "#numerical_values.head(20)\n"
   ]
  },
  {
   "cell_type": "markdown",
   "id": "5a2e47d3",
   "metadata": {},
   "source": [
    "# Processing Data"
   ]
  },
  {
   "cell_type": "markdown",
   "id": "7c2e5601",
   "metadata": {},
   "source": [
    "X-y splitting\n",
    "Normalizing (numericals)\n",
    "Concating DataFrames ..."
   ]
  },
  {
   "cell_type": "markdown",
   "id": "b4f14d7c",
   "metadata": {},
   "source": [
    "# Modelling (decision pending..)"
   ]
  }
 ],
 "metadata": {
  "kernelspec": {
   "display_name": "Python 3 (ipykernel)",
   "language": "python",
   "name": "python3"
  },
  "language_info": {
   "codemirror_mode": {
    "name": "ipython",
    "version": 3
   },
   "file_extension": ".py",
   "mimetype": "text/x-python",
   "name": "python",
   "nbconvert_exporter": "python",
   "pygments_lexer": "ipython3",
   "version": "3.9.12"
  }
 },
 "nbformat": 4,
 "nbformat_minor": 5
}

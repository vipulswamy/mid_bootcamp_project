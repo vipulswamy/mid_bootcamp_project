{
 "cells": [
  {
   "cell_type": "code",
   "execution_count": 35,
   "id": "140778d9",
   "metadata": {},
   "outputs": [],
   "source": [
    "import pandas as pd\n",
    "import numpy as np\n",
    "import matplotlib.pyplot as plt\n",
    "import seaborn as sns\n",
    "%matplotlib inline\n",
    "from sklearn.model_selection import train_test_split\n",
    "from sklearn.linear_model import LinearRegression\n",
    "from sklearn.preprocessing import StandardScaler\n"
   ]
  },
  {
   "cell_type": "markdown",
   "id": "cfe095f2",
   "metadata": {},
   "source": [
    "# Dealing with the data"
   ]
  },
  {
   "cell_type": "code",
   "execution_count": 36,
   "id": "b89f648d",
   "metadata": {
    "scrolled": true
   },
   "outputs": [
    {
     "data": {
      "text/html": [
       "<div>\n",
       "<style scoped>\n",
       "    .dataframe tbody tr th:only-of-type {\n",
       "        vertical-align: middle;\n",
       "    }\n",
       "\n",
       "    .dataframe tbody tr th {\n",
       "        vertical-align: top;\n",
       "    }\n",
       "\n",
       "    .dataframe thead th {\n",
       "        text-align: right;\n",
       "    }\n",
       "</style>\n",
       "<table border=\"1\" class=\"dataframe\">\n",
       "  <thead>\n",
       "    <tr style=\"text-align: right;\">\n",
       "      <th></th>\n",
       "      <th>Density</th>\n",
       "      <th>BodyFat</th>\n",
       "      <th>Age</th>\n",
       "      <th>Weight</th>\n",
       "      <th>Height</th>\n",
       "      <th>Neck</th>\n",
       "      <th>Chest</th>\n",
       "      <th>Abdomen</th>\n",
       "      <th>Hip</th>\n",
       "      <th>Thigh</th>\n",
       "      <th>Knee</th>\n",
       "      <th>Ankle</th>\n",
       "      <th>Biceps</th>\n",
       "      <th>Forearm</th>\n",
       "      <th>Wrist</th>\n",
       "    </tr>\n",
       "  </thead>\n",
       "  <tbody>\n",
       "    <tr>\n",
       "      <th>0</th>\n",
       "      <td>1.0708</td>\n",
       "      <td>12.3</td>\n",
       "      <td>23</td>\n",
       "      <td>154.25</td>\n",
       "      <td>67.75</td>\n",
       "      <td>36.2</td>\n",
       "      <td>93.1</td>\n",
       "      <td>85.2</td>\n",
       "      <td>94.5</td>\n",
       "      <td>59.0</td>\n",
       "      <td>37.3</td>\n",
       "      <td>21.9</td>\n",
       "      <td>32.0</td>\n",
       "      <td>27.4</td>\n",
       "      <td>17.1</td>\n",
       "    </tr>\n",
       "    <tr>\n",
       "      <th>1</th>\n",
       "      <td>1.0853</td>\n",
       "      <td>6.1</td>\n",
       "      <td>22</td>\n",
       "      <td>173.25</td>\n",
       "      <td>72.25</td>\n",
       "      <td>38.5</td>\n",
       "      <td>93.6</td>\n",
       "      <td>83.0</td>\n",
       "      <td>98.7</td>\n",
       "      <td>58.7</td>\n",
       "      <td>37.3</td>\n",
       "      <td>23.4</td>\n",
       "      <td>30.5</td>\n",
       "      <td>28.9</td>\n",
       "      <td>18.2</td>\n",
       "    </tr>\n",
       "    <tr>\n",
       "      <th>2</th>\n",
       "      <td>1.0414</td>\n",
       "      <td>25.3</td>\n",
       "      <td>22</td>\n",
       "      <td>154.00</td>\n",
       "      <td>66.25</td>\n",
       "      <td>34.0</td>\n",
       "      <td>95.8</td>\n",
       "      <td>87.9</td>\n",
       "      <td>99.2</td>\n",
       "      <td>59.6</td>\n",
       "      <td>38.9</td>\n",
       "      <td>24.0</td>\n",
       "      <td>28.8</td>\n",
       "      <td>25.2</td>\n",
       "      <td>16.6</td>\n",
       "    </tr>\n",
       "    <tr>\n",
       "      <th>3</th>\n",
       "      <td>1.0751</td>\n",
       "      <td>10.4</td>\n",
       "      <td>26</td>\n",
       "      <td>184.75</td>\n",
       "      <td>72.25</td>\n",
       "      <td>37.4</td>\n",
       "      <td>101.8</td>\n",
       "      <td>86.4</td>\n",
       "      <td>101.2</td>\n",
       "      <td>60.1</td>\n",
       "      <td>37.3</td>\n",
       "      <td>22.8</td>\n",
       "      <td>32.4</td>\n",
       "      <td>29.4</td>\n",
       "      <td>18.2</td>\n",
       "    </tr>\n",
       "    <tr>\n",
       "      <th>4</th>\n",
       "      <td>1.0340</td>\n",
       "      <td>28.7</td>\n",
       "      <td>24</td>\n",
       "      <td>184.25</td>\n",
       "      <td>71.25</td>\n",
       "      <td>34.4</td>\n",
       "      <td>97.3</td>\n",
       "      <td>100.0</td>\n",
       "      <td>101.9</td>\n",
       "      <td>63.2</td>\n",
       "      <td>42.2</td>\n",
       "      <td>24.0</td>\n",
       "      <td>32.2</td>\n",
       "      <td>27.7</td>\n",
       "      <td>17.7</td>\n",
       "    </tr>\n",
       "  </tbody>\n",
       "</table>\n",
       "</div>"
      ],
      "text/plain": [
       "   Density  BodyFat  Age  Weight  Height  Neck  Chest  Abdomen    Hip  Thigh  \\\n",
       "0   1.0708     12.3   23  154.25   67.75  36.2   93.1     85.2   94.5   59.0   \n",
       "1   1.0853      6.1   22  173.25   72.25  38.5   93.6     83.0   98.7   58.7   \n",
       "2   1.0414     25.3   22  154.00   66.25  34.0   95.8     87.9   99.2   59.6   \n",
       "3   1.0751     10.4   26  184.75   72.25  37.4  101.8     86.4  101.2   60.1   \n",
       "4   1.0340     28.7   24  184.25   71.25  34.4   97.3    100.0  101.9   63.2   \n",
       "\n",
       "   Knee  Ankle  Biceps  Forearm  Wrist  \n",
       "0  37.3   21.9    32.0     27.4   17.1  \n",
       "1  37.3   23.4    30.5     28.9   18.2  \n",
       "2  38.9   24.0    28.8     25.2   16.6  \n",
       "3  37.3   22.8    32.4     29.4   18.2  \n",
       "4  42.2   24.0    32.2     27.7   17.7  "
      ]
     },
     "execution_count": 36,
     "metadata": {},
     "output_type": "execute_result"
    }
   ],
   "source": [
    "data = pd.read_csv('bodyfat.csv')\n",
    "data.shape\n",
    "data.head()"
   ]
  },
  {
   "cell_type": "code",
   "execution_count": 37,
   "id": "fc02aa56",
   "metadata": {},
   "outputs": [
    {
     "data": {
      "text/plain": [
       "\"\\ndef replace_whitespaces(data):\\n    cols = []\\n    for col in data.columns:\\n        cols.append(col.replace(' ', '_'))\\n    data.columns = cols\\n    return data\\n\""
      ]
     },
     "execution_count": 37,
     "metadata": {},
     "output_type": "execute_result"
    }
   ],
   "source": [
    "#Standardize header names.\n",
    "def rename_coloumn(data):\n",
    "    #data = data.rename(columns={'Abdomen': 'Waist'})\n",
    "    data.rename(columns={'Abdomen': 'Waist'}, inplace=True)\n",
    "    \n",
    "def coloumn_names_lwr(data):\n",
    "    data.columns = map(str.lower, data.columns)\n",
    "    data.head()\n",
    "    #data.columns = [x.lower() for x in data.columns]\n",
    "    \n",
    "def coloumn_names_captl(data):\n",
    "    data.columns = map(str.capitalize, data.columns)\n",
    "    data.head()\n",
    "    #data.columns = [x.capitalize() for x in data.columns]    \n",
    "'''\n",
    "def replace_whitespaces(data):\n",
    "    cols = []\n",
    "    for col in data.columns:\n",
    "        cols.append(col.replace(' ', '_'))\n",
    "    data.columns = cols\n",
    "    return data\n",
    "'''    \n"
   ]
  },
  {
   "cell_type": "code",
   "execution_count": 38,
   "id": "dc2e07c9",
   "metadata": {},
   "outputs": [],
   "source": [
    "def check_missing_data(data):\n",
    "    print(f\"zero values in the dataset\\n: {data.isnull().sum() * 100 / len(data)}\")\n",
    "    print(f\"unknown values in the dataset:{data.isna().sum() * 100 / len(data)}\")\n"
   ]
  },
  {
   "cell_type": "code",
   "execution_count": 39,
   "id": "b7a02207",
   "metadata": {},
   "outputs": [],
   "source": [
    "#numercial and categorical data\n",
    "\n",
    "numerical_values = pd.DataFrame()\n",
    "continuous_values = pd.DataFrame()\n",
    "categorical_values = pd.DataFrame()\n",
    "\n",
    "def check_datatypes(data): #returns numerical,continuous and categorical values respectively\n",
    "    numerical = data.select_dtypes(np.number)\n",
    "    numerical_continuous = data.select_dtypes(include=['float64'])\n",
    "    categorical = data.select_dtypes(object)\n",
    "    return numerical,numerical_continuous,categorical\n"
   ]
  },
  {
   "cell_type": "markdown",
   "id": "c8b806ae",
   "metadata": {},
   "source": [
    "Omitting the density coloumn on purpose because to predict the body fat percentage of a person based on the circumferential measurements already available, which is good enough to predict with so much available data.\n",
    "\n",
    "I will, create Model only with these data, and predict again with my personal data set for the information randomly to validate the model."
   ]
  },
  {
   "cell_type": "markdown",
   "id": "24a82e3d",
   "metadata": {},
   "source": [
    "Fat (%) = [(4*95/density) -4.51 x 100]\n",
    "\n",
    "source:https://www.cambridge.org/core/services/aop-cambridge-core/content/view/DA80501B784742B9B2F4F454BDEE923B/S0007114567000728a.pdf/the-assessment-of-the-amount-of-fat-in-the-human-body-from-measurements-of-skinfold-thickness.pdf\n"
   ]
  },
  {
   "cell_type": "markdown",
   "id": "05acbac7",
   "metadata": {},
   "source": [
    "# Exploring the data"
   ]
  },
  {
   "cell_type": "code",
   "execution_count": 40,
   "id": "4d170dd2",
   "metadata": {},
   "outputs": [],
   "source": [
    "#converting the dataset to metric system\n",
    "def convert_weight_kg(data):\n",
    "    data['weight']=data['weight'].apply(lambda x : round((x * 0.453),2))\n",
    "    \n",
    "def convert_inch_to_cm(data):\n",
    "    #drop weight, density and body fat percentage\n",
    "    # 12 inches --> 30 cm\n",
    "    #formula X cm = [30/12] * input inches\n",
    "    df_drops = data[['density','bodyfat','age','weight']]\n",
    "    df2 = data.drop(['density','bodyfat','age','weight'], axis=1)\n",
    "    df2 = df2.apply(lambda x : x * 2.5)\n",
    "    data = pd.concat([df_drops, df2], axis=1, join=\"outer\")\n",
    "    return data\n",
    "    "
   ]
  },
  {
   "cell_type": "markdown",
   "id": "c7a3e335",
   "metadata": {},
   "source": [
    "Finding the Relationships:"
   ]
  },
  {
   "cell_type": "markdown",
   "id": "ad9279f4",
   "metadata": {},
   "source": [
    "I am concerned about the correlation between the Label = 'Bodyfat%' and the features = [weight,Chest,abdomen, hip, Bicep,Thigh]"
   ]
  },
  {
   "cell_type": "markdown",
   "id": "dbb18409",
   "metadata": {},
   "source": [
    "so I am going to find the Correation between them, by dropping the rest as follows"
   ]
  },
  {
   "cell_type": "code",
   "execution_count": 41,
   "id": "673b3f4b",
   "metadata": {},
   "outputs": [],
   "source": [
    "#def find_correlation(data):\n",
    "#    df_corr = data.drop(['density','age'], axis=1)\n",
    "#    sns.heatmap(df_corr.corr())\n",
    "\n"
   ]
  },
  {
   "cell_type": "markdown",
   "id": "eedf4f29",
   "metadata": {},
   "source": [
    "I will try to find the highly correlated value to the label bodyfat and try to fit them:\n",
    "* In our case we can see that the features, weight,chest,abdomen, hip,thigh are all closely correlated.\n",
    "* we will try to find the correlation again by dropping the other fewatures for our consideration"
   ]
  },
  {
   "cell_type": "code",
   "execution_count": 42,
   "id": "b56c533d",
   "metadata": {},
   "outputs": [],
   "source": [
    "# add new coloumn waist to hip ratio\n",
    "def waist_to_hip(data):\n",
    "    data[\"waist_to_hip\"] = data['waist']/data['hip']"
   ]
  },
  {
   "cell_type": "code",
   "execution_count": 67,
   "id": "a7ace4eb",
   "metadata": {},
   "outputs": [],
   "source": [
    "def finalise_correlation(data, cols_to_drop):\n",
    "    df_corr = data.drop(cols_to_drop, axis=1)\n",
    "    svm = sns.heatmap(df_corr.corr(), annot=True)\n",
    "    figure = svm.get_figure()    \n",
    "    figure.savefig('heatmap.png', dpi=400)\n",
    "    return df_corr"
   ]
  },
  {
   "cell_type": "markdown",
   "id": "e346cb3e",
   "metadata": {},
   "source": [
    "NOTE:we witness here that abdomen circumference somewhat highly correlated and is a key contributor to the Bodyfat Percentage. But according to my Domain knowledge, waist(abdomen) to hip ratio is a significant contributor to calculate the bodyfat percentage.\n",
    "so with this in mind I will do some \"Feature Engineering\", with WHR(waist to hip ratio) as another feature in the table.\n",
    "\n",
    "sources:\n",
    "1. https://www.bhf.org.uk/informationsupport/heart-matters-magazine/nutrition/weight/best-way-to-measure-body-fat\n",
    "    \n",
    "2. https://www.medicalnewstoday.com/articles/319439#how-does-waist-to-hip-ratio-affect-health\n",
    "        "
   ]
  },
  {
   "cell_type": "markdown",
   "id": "a34b14e4",
   "metadata": {},
   "source": [
    "Conclusion: Since the features Bodyfat and Waist asre highly correlated to the WHR, we will construct a linear regression model around Bodyfat and WHR "
   ]
  },
  {
   "cell_type": "markdown",
   "id": "8bda3db1",
   "metadata": {},
   "source": [
    "# Collinearity, Transformation"
   ]
  },
  {
   "cell_type": "markdown",
   "id": "7cacfd27",
   "metadata": {},
   "source": [
    "Checking the Linear Hypothesis"
   ]
  },
  {
   "cell_type": "code",
   "execution_count": 59,
   "id": "77665024",
   "metadata": {},
   "outputs": [],
   "source": [
    "# find linear Hypotheis using a scatter plot\n",
    "def plot_scatter_waist(X,y):\n",
    "    sns.set()\n",
    "    sns.scatterplot(X,y)\n",
    "    plt.tight_layout()\n",
    "    plt.savefig('scatter_1.png')\n",
    "    plt.show()\n",
    "# find linear Hypotheis using a scatter plot\n",
    "def plot_scatter_whr(X,y):\n",
    "    sns.set()\n",
    "    sns.scatterplot(X,y)\n",
    "    plt.tight_layout()\n",
    "    plt.savefig('scatter_2.png')\n",
    "    plt.show()    \n",
    "    "
   ]
  },
  {
   "cell_type": "markdown",
   "id": "a501915f",
   "metadata": {},
   "source": [
    "Normalising the Distribution:\n",
    "Since we do not have multiple features to predict the label, we don't use any transformation methods liske standard scalar or Min-Max scalar\n",
    "\n",
    "we go on to create a 1. model after train test split 2.check the error metrics to check the accuracy 3. save the model 4.use external data on this model to predict the accuracy"
   ]
  },
  {
   "cell_type": "markdown",
   "id": "6da6c49e",
   "metadata": {},
   "source": [
    "Separate the features from the labels"
   ]
  },
  {
   "cell_type": "code",
   "execution_count": 60,
   "id": "09d4c4e1",
   "metadata": {},
   "outputs": [],
   "source": [
    "#def separate_label_features(data):\n",
    "#    y = data['TARGET_D']\n",
    "#    X = data.drop(['TARGET_D'], axis=1)\n",
    "    \n",
    "    "
   ]
  },
  {
   "cell_type": "code",
   "execution_count": 61,
   "id": "726778c3",
   "metadata": {},
   "outputs": [],
   "source": [
    "#pd.set_option('display.max_columns', None)"
   ]
  },
  {
   "cell_type": "code",
   "execution_count": 76,
   "id": "2c436727",
   "metadata": {},
   "outputs": [
    {
     "name": "stdout",
     "output_type": "stream",
     "text": [
      "zero values in the dataset\n",
      ": density         0.0\n",
      "bodyfat         0.0\n",
      "age             0.0\n",
      "weight          0.0\n",
      "height          0.0\n",
      "neck            0.0\n",
      "chest           0.0\n",
      "waist           0.0\n",
      "hip             0.0\n",
      "thigh           0.0\n",
      "knee            0.0\n",
      "ankle           0.0\n",
      "biceps          0.0\n",
      "forearm         0.0\n",
      "wrist           0.0\n",
      "waist_to_hip    0.0\n",
      "dtype: float64\n",
      "unknown values in the dataset:density         0.0\n",
      "bodyfat         0.0\n",
      "age             0.0\n",
      "weight          0.0\n",
      "height          0.0\n",
      "neck            0.0\n",
      "chest           0.0\n",
      "waist           0.0\n",
      "hip             0.0\n",
      "thigh           0.0\n",
      "knee            0.0\n",
      "ankle           0.0\n",
      "biceps          0.0\n",
      "forearm         0.0\n",
      "wrist           0.0\n",
      "waist_to_hip    0.0\n",
      "dtype: float64\n"
     ]
    },
    {
     "data": {
      "text/plain": [
       "81"
      ]
     },
     "execution_count": 76,
     "metadata": {},
     "output_type": "execute_result"
    },
    {
     "data": {
      "image/png": "[encoded data removed]",
      "text/plain": [
       "<Figure size 432x288 with 2 Axes>"
      ]
     },
     "metadata": {},
     "output_type": "display_data"
    }
   ],
   "source": [
    "# Fucntion calls and declarations\n",
    "numerical_values = pd.DataFrame()\n",
    "continuous_values = pd.DataFrame()\n",
    "categorical_values = pd.DataFrame()\n",
    "cols_to_drop = ['density','age','neck','thigh','height','knee','ankle','forearm','wrist']\n",
    "df_corr = pd.DataFrame()\n",
    "data[\"waist_to_hip\"] = ''\n",
    "rename_coloumn(data)\n",
    "coloumn_names_lwr(data)#module\n",
    "check_missing_data(data)#module\n",
    "numerical_values,continuous_values,categorical_values = check_datatypes(data)#module\n",
    "convert_weight_kg(data)#module\n",
    "convert_inch_to_cm(numerical_values)#module\n",
    "#find_correlation(data)#find_correlation(numerical_values)#input numerical values\n",
    "waist_to_hip(data)#module\n",
    "df_corr = finalise_correlation(data, cols_to_drop)#pick highly correlated feature dataframes to predict the label\n",
    "df_corr\n",
    "data\n",
    "\n",
    "mean_age = np.max(data['age'])\n",
    "mean_age\n",
    "\n",
    "#numerical_values.head(20)\n"
   ]
  },
  {
   "cell_type": "code",
   "execution_count": 63,
   "id": "2d401a9f",
   "metadata": {},
   "outputs": [
    {
     "name": "stderr",
     "output_type": "stream",
     "text": [
      "C:\\Users\\Admin\\anaconda3\\lib\\site-packages\\seaborn\\_decorators.py:36: FutureWarning: Pass the following variables as keyword args: x, y. From version 0.12, the only valid positional argument will be `data`, and passing other arguments without an explicit keyword will result in an error or misinterpretation.\n",
      "  warnings.warn(\n"
     ]
    },
    {
     "data": {
      "image/png": "[encoded data removed]",
      "text/plain": [
       "<Figure size 432x288 with 1 Axes>"
      ]
     },
     "metadata": {},
     "output_type": "display_data"
    },
    {
     "name": "stderr",
     "output_type": "stream",
     "text": [
      "C:\\Users\\Admin\\anaconda3\\lib\\site-packages\\seaborn\\_decorators.py:36: FutureWarning: Pass the following variables as keyword args: x, y. From version 0.12, the only valid positional argument will be `data`, and passing other arguments without an explicit keyword will result in an error or misinterpretation.\n",
      "  warnings.warn(\n"
     ]
    },
    {
     "data": {
      "image/png": "[encoded data removed]",
      "text/plain": [
       "<Figure size 432x288 with 1 Axes>"
      ]
     },
     "metadata": {},
     "output_type": "display_data"
    }
   ],
   "source": [
    "#plot the correlated features with the label--> plot_scatter(x,y)\n",
    "plot_scatter_waist(df_corr['waist'],df_corr['bodyfat']) \n",
    "plot_scatter_whr(df_corr['waist_to_hip'],df_corr['bodyfat']) "
   ]
  },
  {
   "cell_type": "markdown",
   "id": "b13683f1",
   "metadata": {},
   "source": [
    "plot the features distribution:\n",
    "It made no sense to plot tis distribution, mostly because of the limited sample size.."
   ]
  },
  {
   "cell_type": "code",
   "execution_count": 69,
   "id": "02ccfbcd",
   "metadata": {},
   "outputs": [
    {
     "data": {
      "image/png": "[encoded data removed]",
      "text/plain": [
       "<Figure size 360x360 with 1 Axes>"
      ]
     },
     "metadata": {},
     "output_type": "display_data"
    }
   ],
   "source": [
    "sns.displot(data=data,x=\"waist\");\n",
    "plt.savefig('dist_plot_1.png')\n",
    "plt.show()"
   ]
  },
  {
   "cell_type": "code",
   "execution_count": 70,
   "id": "f1094c04",
   "metadata": {},
   "outputs": [
    {
     "data": {
      "image/png": "[encoded data removed]",
      "text/plain": [
       "<Figure size 360x360 with 1 Axes>"
      ]
     },
     "metadata": {},
     "output_type": "display_data"
    }
   ],
   "source": [
    "sns.displot(data=data,x=\"waist_to_hip\");\n",
    "plt.savefig('dist_plot_2.png')\n",
    "plt.show()"
   ]
  },
  {
   "cell_type": "code",
   "execution_count": 71,
   "id": "f79742a6",
   "metadata": {},
   "outputs": [
    {
     "data": {
      "image/png": "[encoded data removed]",
      "text/plain": [
       "<Figure size 360x360 with 1 Axes>"
      ]
     },
     "metadata": {},
     "output_type": "display_data"
    }
   ],
   "source": [
    "sns.displot(data=data,x=\"bodyfat\");\n",
    "plt.savefig('dist_plot_3.png')\n",
    "plt.show()"
   ]
  },
  {
   "cell_type": "markdown",
   "id": "2fd3af99",
   "metadata": {},
   "source": [
    "creating the python modules"
   ]
  },
  {
   "cell_type": "markdown",
   "id": "c03e1993",
   "metadata": {},
   "source": [
    "Export the clean file"
   ]
  },
  {
   "cell_type": "code",
   "execution_count": 72,
   "id": "cc61a09a",
   "metadata": {},
   "outputs": [],
   "source": [
    "data.to_csv('cleaned_bodyfat_data.csv', header=True)"
   ]
  },
  {
   "cell_type": "code",
   "execution_count": null,
   "id": "33b19f13",
   "metadata": {},
   "outputs": [],
   "source": []
  }
 ],
 "metadata": {
  "kernelspec": {
   "display_name": "Python 3 (ipykernel)",
   "language": "python",
   "name": "python3"
  },
  "language_info": {
   "codemirror_mode": {
    "name": "ipython",
    "version": 3
   },
   "file_extension": ".py",
   "mimetype": "text/x-python",
   "name": "python",
   "nbconvert_exporter": "python",
   "pygments_lexer": "ipython3",
   "version": "3.9.12"
  }
 },
 "nbformat": 4,
 "nbformat_minor": 5
}
